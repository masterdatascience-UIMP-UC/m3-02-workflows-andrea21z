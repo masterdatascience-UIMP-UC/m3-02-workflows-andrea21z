{
 "cells": [
  {
   "cell_type": "markdown",
   "metadata": {},
   "source": [
    "# Workflow\n",
    "\n",
    "En esta práctica vamos a aplicar lo aprendido en esta asignatura para crear un flujo que automatice la descarga, análisis y publicación de los datos utilizando distintas herramientas como Zenodo, github y librerías de python para el análisis de datos\n",
    "\n",
    "### Librerías necesarias para la práctica\n",
    "\n",
    "```python\n",
    "import xml.etree.ElementTree as ET\n",
    "import requests\n",
    "import json\n",
    "import zipfile\n",
    "```\n",
    "\n",
    "### Elementos necesarios\n",
    "* Al menos un fichero CSV\n",
    "* Un script de análisis de datos en CSV (Publicado en Github)\n"
   ]
  },
  {
   "cell_type": "markdown",
   "metadata": {},
   "source": [
    "Andrea Noriega, Alejandro González, Andrea Trapote"
   ]
  },
  {
   "cell_type": "markdown",
   "metadata": {},
   "source": [
    "# Publicación de datos iniciales\n",
    "\n",
    "Utilizando Zenodo, de forma manual, publicar los datos que se vayan a utilizar.\n",
    "\n",
    "<div class=\"alert alert-warning\" role=\"alert\" style=\"margin: 10px\">\n",
    "<p>Utilizar Communities para localizar más facilmente los datos</p>\n",
    "</div>\n"
   ]
  },
  {
   "cell_type": "code",
   "execution_count": null,
   "metadata": {},
   "outputs": [],
   "source": [
    "https://zenodo.org/record/2541792"
   ]
  },
  {
   "cell_type": "markdown",
   "metadata": {},
   "source": [
    "# Publicación de script de Análisis\n",
    "\n",
    "En Github + Zenodo"
   ]
  },
  {
   "cell_type": "code",
   "execution_count": null,
   "metadata": {},
   "outputs": [],
   "source": [
    "https://zenodo.org/communities/datalife1/curate/?page=1&size=20\n",
    "https://github.com/andrea21z/Populations\n",
    "    \n",
    "https://zenodo.org/record/2541854"
   ]
  },
  {
   "cell_type": "markdown",
   "metadata": {},
   "source": [
    "# Descarga de datos\n",
    "\n",
    "Desde Zenodo, utilizando los métodos conocidos (OAI-PMH, API)\n",
    "\n",
    "Pista: url+'?verb=ListRecords&set=nombre_set"
   ]
  },
  {
   "cell_type": "code",
   "execution_count": 141,
   "metadata": {},
   "outputs": [],
   "source": [
    "import xml.etree.ElementTree as ET\n",
    "import requests\n",
    "import json\n",
    "import zipfile\n",
    "import io"
   ]
  },
  {
   "cell_type": "code",
   "execution_count": 142,
   "metadata": {},
   "outputs": [
    {
     "name": "stdout",
     "output_type": "stream",
     "text": [
      "{http://www.openarchives.org/OAI/2.0/}OAI-PMH\n",
      "\n",
      "  \n",
      "{http://www.openarchives.org/OAI/2.0/}responseDate\n",
      "2019-01-16T18:44:01Z\n",
      "{http://www.openarchives.org/OAI/2.0/}request\n",
      "https://zenodo.org/oai2d\n",
      "{http://www.openarchives.org/OAI/2.0/}ListRecords\n",
      "\n",
      "    \n",
      "{http://www.openarchives.org/OAI/2.0/}record\n",
      "\n",
      "      \n",
      "{http://www.openarchives.org/OAI/2.0/}header\n",
      "\n",
      "        \n",
      "{http://www.openarchives.org/OAI/2.0/}identifier\n",
      "oai:zenodo.org:2541854\n",
      "{http://www.openarchives.org/OAI/2.0/}datestamp\n",
      "2019-01-16T16:06:00Z\n",
      "{http://www.openarchives.org/OAI/2.0/}setSpec\n",
      "user-datalife1\n",
      "{http://www.openarchives.org/OAI/2.0/}metadata\n",
      "\n",
      "        \n",
      "{http://www.openarchives.org/OAI/2.0/oai_dc/}dc\n",
      "\n",
      "          \n",
      "{http://purl.org/dc/elements/1.1/}creator\n",
      "Alejandro González\n",
      "{http://purl.org/dc/elements/1.1/}date\n",
      "2019-01-16\n",
      "{http://purl.org/dc/elements/1.1/}description\n",
      "The compressed file contains the populations.txt dataset and the populations160119.py script that works with the mentioned dataset.\n",
      "{http://purl.org/dc/elements/1.1/}identifier\n",
      "https://zenodo.org/record/2541854\n",
      "{http://purl.org/dc/elements/1.1/}identifier\n",
      "10.5281/zenodo.2541854\n",
      "{http://purl.org/dc/elements/1.1/}identifier\n",
      "oai:zenodo.org:2541854\n",
      "{http://purl.org/dc/elements/1.1/}language\n",
      "eng\n",
      "{http://purl.org/dc/elements/1.1/}relation\n",
      "doi:10.5281/zenodo.2541853\n",
      "{http://purl.org/dc/elements/1.1/}relation\n",
      "url:https://zenodo.org/communities/datalife1\n",
      "{http://purl.org/dc/elements/1.1/}rights\n",
      "info:eu-repo/semantics/openAccess\n",
      "{http://purl.org/dc/elements/1.1/}rights\n",
      "http://creativecommons.org/licenses/by/4.0/legalcode\n",
      "{http://purl.org/dc/elements/1.1/}subject\n",
      "populations, carrots, hares, lynces\n",
      "{http://purl.org/dc/elements/1.1/}title\n",
      "populations16012019complete\n",
      "{http://purl.org/dc/elements/1.1/}type\n",
      "info:eu-repo/semantics/other\n",
      "{http://purl.org/dc/elements/1.1/}type\n",
      "software\n",
      "{http://www.openarchives.org/OAI/2.0/}record\n",
      "\n",
      "      \n",
      "{http://www.openarchives.org/OAI/2.0/}header\n",
      "\n",
      "        \n",
      "{http://www.openarchives.org/OAI/2.0/}identifier\n",
      "oai:zenodo.org:2541792\n",
      "{http://www.openarchives.org/OAI/2.0/}datestamp\n",
      "2019-01-16T15:52:48Z\n",
      "{http://www.openarchives.org/OAI/2.0/}setSpec\n",
      "user-datalife1\n",
      "{http://www.openarchives.org/OAI/2.0/}metadata\n",
      "\n",
      "        \n",
      "{http://www.openarchives.org/OAI/2.0/oai_dc/}dc\n",
      "\n",
      "          \n",
      "{http://purl.org/dc/elements/1.1/}creator\n",
      "Andrea Trapote\n",
      "{http://purl.org/dc/elements/1.1/}date\n",
      "2019-01-16\n",
      "{http://purl.org/dc/elements/1.1/}description\n",
      "Populations of hares, carrots and lynces over several years. \n",
      "{http://purl.org/dc/elements/1.1/}identifier\n",
      "https://zenodo.org/record/2541792\n",
      "{http://purl.org/dc/elements/1.1/}identifier\n",
      "10.5281/zenodo.2541792\n",
      "{http://purl.org/dc/elements/1.1/}identifier\n",
      "oai:zenodo.org:2541792\n",
      "{http://purl.org/dc/elements/1.1/}language\n",
      "eng\n",
      "{http://purl.org/dc/elements/1.1/}relation\n",
      "doi:10.5281/zenodo.2541791\n",
      "{http://purl.org/dc/elements/1.1/}relation\n",
      "url:https://zenodo.org/communities/datalife1\n",
      "{http://purl.org/dc/elements/1.1/}rights\n",
      "info:eu-repo/semantics/openAccess\n",
      "{http://purl.org/dc/elements/1.1/}rights\n",
      "http://creativecommons.org/licenses/by/4.0/legalcode\n",
      "{http://purl.org/dc/elements/1.1/}subject\n",
      "carrots, lynces, populations, hares\n",
      "{http://purl.org/dc/elements/1.1/}title\n",
      "Populations_over_years\n",
      "{http://purl.org/dc/elements/1.1/}type\n",
      "info:eu-repo/semantics/other\n",
      "{http://purl.org/dc/elements/1.1/}type\n",
      "dataset\n"
     ]
    }
   ],
   "source": [
    "#vemos los metadatos\n",
    "headers = {'accept': 'application/json'}\n",
    "oai = requests.get('https://zenodo.org/oai2d?verb=ListRecords&set=user-datalife1&metadataPrefix=oai_dc')\n",
    "xmlTree = ET.fromstring(oai.text)\n",
    "iterator = xmlTree.iter()\n",
    "for elem in iterator:\n",
    "    print(elem.tag)\n",
    "    print(elem.text)"
   ]
  },
  {
   "cell_type": "code",
   "execution_count": 140,
   "metadata": {},
   "outputs": [
    {
     "name": "stdout",
     "output_type": "stream",
     "text": [
      "{http://purl.org/dc/elements/1.1/}identifier: https://zenodo.org/record/2541854\n",
      "{http://purl.org/dc/elements/1.1/}identifier: 10.5281/zenodo.2541854\n",
      "{http://purl.org/dc/elements/1.1/}identifier: oai:zenodo.org:2541854\n",
      "{http://purl.org/dc/elements/1.1/}identifier: https://zenodo.org/record/2541792\n",
      "{http://purl.org/dc/elements/1.1/}identifier: 10.5281/zenodo.2541792\n",
      "{http://purl.org/dc/elements/1.1/}identifier: oai:zenodo.org:2541792\n"
     ]
    }
   ],
   "source": [
    "#nos quedamos con los identificadores\n",
    "iterator = xmlTree.iter()\n",
    "for elem in iterator:\n",
    "    if (elem.tag == '{http://purl.org/dc/elements/1.1/}identifier'):\n",
    "        print(elem.tag+\": \"+elem.text)"
   ]
  },
  {
   "cell_type": "code",
   "execution_count": 76,
   "metadata": {},
   "outputs": [
    {
     "name": "stdout",
     "output_type": "stream",
     "text": [
      "{'conceptdoi': '10.5281/zenodo.2541791', 'conceptrecid': '2541791', 'created': '2019-01-16T15:39:41.491905+00:00', 'doi': '10.5281/zenodo.2541792', 'files': [{'bucket': 'b27c322f-9060-48d4-b989-bcaddf341d61', 'checksum': 'md5:6d8ca9d8a66752cbc7ff98f68a7c30cb', 'key': 'populations.txt', 'links': {'self': 'https://zenodo.org/api/files/b27c322f-9060-48d4-b989-bcaddf341d61/populations.txt'}, 'size': 525, 'type': 'txt'}], 'id': 2541792, 'links': {'badge': 'https://zenodo.org/badge/doi/10.5281/zenodo.2541792.svg', 'bucket': 'https://zenodo.org/api/files/b27c322f-9060-48d4-b989-bcaddf341d61', 'conceptbadge': 'https://zenodo.org/badge/doi/10.5281/zenodo.2541791.svg', 'conceptdoi': 'https://doi.org/10.5281/zenodo.2541791', 'doi': 'https://doi.org/10.5281/zenodo.2541792', 'html': 'https://zenodo.org/record/2541792', 'latest': 'https://zenodo.org/api/records/2541792', 'latest_html': 'https://zenodo.org/record/2541792', 'self': 'https://zenodo.org/api/records/2541792'}, 'metadata': {'access_right': 'open', 'access_right_category': 'success', 'communities': [{'id': 'datalife1'}], 'creators': [{'affiliation': 'Data Life Cycle', 'name': 'Andrea Trapote'}], 'description': '<p>Populations of hares, carrots and lynces&nbsp;over several years.&nbsp;</p>', 'doi': '10.5281/zenodo.2541792', 'keywords': ['carrots, lynces, populations, hares'], 'language': 'eng', 'license': {'id': 'CC-BY-4.0'}, 'notes': 'Dataset to work with.', 'publication_date': '2019-01-16', 'related_identifiers': [{'identifier': '10.5281/zenodo.2541791', 'relation': 'isVersionOf', 'scheme': 'doi'}], 'relations': {'version': [{'count': 1, 'index': 0, 'is_last': True, 'last_child': {'pid_type': 'recid', 'pid_value': '2541792'}, 'parent': {'pid_type': 'recid', 'pid_value': '2541791'}}]}, 'resource_type': {'title': 'Dataset', 'type': 'dataset'}, 'title': 'Populations_over_years', 'version': '1.0.0'}, 'owners': [58445], 'revision': 2, 'stats': {'downloads': 0.0, 'unique_downloads': 0.0, 'unique_views': 0.0, 'version_downloads': 0.0, 'version_unique_downloads': 0.0, 'version_unique_views': 0.0, 'version_views': 0.0, 'version_volume': 0.0, 'views': 0.0, 'volume': 0.0}, 'updated': '2019-01-16T15:52:48.750307+00:00'}\n"
     ]
    },
    {
     "data": {
      "text/plain": [
       "'https://zenodo.org/api/files/b27c322f-9060-48d4-b989-bcaddf341d61/populations.txt'"
      ]
     },
     "execution_count": 76,
     "metadata": {},
     "output_type": "execute_result"
    }
   ],
   "source": [
    "#cargamos metadatos del txt y nos queamos con su identificador(URL)\n",
    "r = requests.get('https://zenodo.org/api/records/2541792',headers)\n",
    "record = json.loads(r.text)\n",
    "print(record)\n",
    "url=record['files'][0]['links']['self']\n",
    "url"
   ]
  },
  {
   "cell_type": "code",
   "execution_count": 78,
   "metadata": {},
   "outputs": [
    {
     "data": {
      "text/plain": [
       "<Response [200]>"
      ]
     },
     "execution_count": 78,
     "metadata": {},
     "output_type": "execute_result"
    }
   ],
   "source": [
    "#la descargamos\n",
    "r = requests.get(url,stream=True)"
   ]
  },
  {
   "cell_type": "markdown",
   "metadata": {},
   "source": [
    "# Descarga de código\n",
    "\n",
    "Desde Zenodo, utilizando los métodos conocidos (OAI-PMH, API)\n",
    "\n",
    "<div class=\"alert alert-warning\" role=\"alert\" style=\"margin: 10px\">\n",
    "<p>Zenodo guarda un zip con el código</p>\n",
    "</div>"
   ]
  },
  {
   "cell_type": "code",
   "execution_count": 80,
   "metadata": {},
   "outputs": [
    {
     "data": {
      "text/plain": [
       "{'conceptdoi': '10.5281/zenodo.2541853',\n",
       " 'conceptrecid': '2541853',\n",
       " 'created': '2019-01-16T16:05:03.437015+00:00',\n",
       " 'doi': '10.5281/zenodo.2541854',\n",
       " 'files': [{'bucket': '9658364d-0d52-44a3-9598-63cf35c8395b',\n",
       "   'checksum': 'md5:092baa416160ae5bdd721a249330bd4a',\n",
       "   'key': 'populations.zip',\n",
       "   'links': {'self': 'https://zenodo.org/api/files/9658364d-0d52-44a3-9598-63cf35c8395b/populations.zip'},\n",
       "   'size': 706,\n",
       "   'type': 'zip'}],\n",
       " 'id': 2541854,\n",
       " 'links': {'badge': 'https://zenodo.org/badge/doi/10.5281/zenodo.2541854.svg',\n",
       "  'bucket': 'https://zenodo.org/api/files/9658364d-0d52-44a3-9598-63cf35c8395b',\n",
       "  'conceptbadge': 'https://zenodo.org/badge/doi/10.5281/zenodo.2541853.svg',\n",
       "  'conceptdoi': 'https://doi.org/10.5281/zenodo.2541853',\n",
       "  'doi': 'https://doi.org/10.5281/zenodo.2541854',\n",
       "  'html': 'https://zenodo.org/record/2541854',\n",
       "  'latest': 'https://zenodo.org/api/records/2541854',\n",
       "  'latest_html': 'https://zenodo.org/record/2541854',\n",
       "  'self': 'https://zenodo.org/api/records/2541854'},\n",
       " 'metadata': {'access_right': 'open',\n",
       "  'access_right_category': 'success',\n",
       "  'communities': [{'id': 'datalife1'}],\n",
       "  'creators': [{'affiliation': 'Data Life Cycle',\n",
       "    'name': 'Alejandro González'}],\n",
       "  'description': '<p>The compressed file contains the populations.txt dataset and the populations160119.py script that works with the mentioned dataset.</p>',\n",
       "  'doi': '10.5281/zenodo.2541854',\n",
       "  'keywords': ['populations, carrots, hares, lynces'],\n",
       "  'language': 'eng',\n",
       "  'license': {'id': 'CC-BY-4.0'},\n",
       "  'notes': 'May produce duplicates.',\n",
       "  'publication_date': '2019-01-16',\n",
       "  'related_identifiers': [{'identifier': '10.5281/zenodo.2541853',\n",
       "    'relation': 'isVersionOf',\n",
       "    'scheme': 'doi'}],\n",
       "  'relations': {'version': [{'count': 1,\n",
       "     'index': 0,\n",
       "     'is_last': True,\n",
       "     'last_child': {'pid_type': 'recid', 'pid_value': '2541854'},\n",
       "     'parent': {'pid_type': 'recid', 'pid_value': '2541853'}}]},\n",
       "  'resource_type': {'title': 'Software', 'type': 'software'},\n",
       "  'title': 'populations16012019complete',\n",
       "  'version': '1.0.0'},\n",
       " 'owners': [58445],\n",
       " 'revision': 2,\n",
       " 'stats': {'downloads': 0.0,\n",
       "  'unique_downloads': 0.0,\n",
       "  'unique_views': 0.0,\n",
       "  'version_downloads': 0.0,\n",
       "  'version_unique_downloads': 0.0,\n",
       "  'version_unique_views': 0.0,\n",
       "  'version_views': 0.0,\n",
       "  'version_volume': 0.0,\n",
       "  'views': 0.0,\n",
       "  'volume': 0.0},\n",
       " 'updated': '2019-01-16T16:06:00.643057+00:00'}"
      ]
     },
     "execution_count": 80,
     "metadata": {},
     "output_type": "execute_result"
    }
   ],
   "source": [
    "#caragamos metadatos del zip\n",
    "r = requests.get('https://zenodo.org/api/records/2541854')\n",
    "record = json.loads(r.text)\n",
    "record"
   ]
  },
  {
   "cell_type": "code",
   "execution_count": 81,
   "metadata": {},
   "outputs": [],
   "source": [
    "#nos quedamos con la url, descargamos y descomprimimos\n",
    "url2=record['files'][0]['links']['self']\n",
    "r = requests.get(url2,stream=True)\n",
    "z = zipfile.ZipFile(io.BytesIO(r.content))\n",
    "z.extractall()"
   ]
  },
  {
   "cell_type": "markdown",
   "metadata": {},
   "source": [
    "# Análisis de los datos\n",
    "\n",
    "Producir fichero: Otro CSV, imagen, etc"
   ]
  },
  {
   "cell_type": "code",
   "execution_count": 29,
   "metadata": {},
   "outputs": [
    {
     "data": {
      "image/png": "[encoded data removed]",
      "text/plain": [
       "<Figure size 432x288 with 1 Axes>"
      ]
     },
     "metadata": {},
     "output_type": "display_data"
    }
   ],
   "source": [
    "#guardamos la imagen\n",
    "%run -i populations16012019.py\n",
    "plt.savefig(\"liebres.jpg\")"
   ]
  },
  {
   "cell_type": "markdown",
   "metadata": {},
   "source": [
    "# Publicación de los Datos\n",
    "\n",
    "Utilizando la API de Zenodo"
   ]
  },
  {
   "cell_type": "code",
   "execution_count": 115,
   "metadata": {},
   "outputs": [],
   "source": [
    "ACCESS_TOKEN = 'ykdMZQ19qrOlKUGkj4gLpEmSA02kUW4EiWbv4gdnDl6RRtBuZkJ3ZvbxZ7bF'\n",
    "r = requests.get('https://zenodo.org/api/deposit/depositions', params={'access_token': ACCESS_TOKEN})"
   ]
  },
  {
   "cell_type": "code",
   "execution_count": 117,
   "metadata": {},
   "outputs": [],
   "source": [
    "headers = {\"Content-Type\": \"application/json\"}\n",
    "r = requests.post('https://zenodo.org/api/deposit/depositions',params={'access_token': ACCESS_TOKEN}, json={},headers=headers)\n"
   ]
  },
  {
   "cell_type": "code",
   "execution_count": 118,
   "metadata": {},
   "outputs": [
    {
     "data": {
      "text/plain": [
       "{'conceptrecid': '2542033',\n",
       " 'created': '2019-01-16T18:20:58.093174+00:00',\n",
       " 'files': [],\n",
       " 'id': 2542034,\n",
       " 'links': {'bucket': 'https://zenodo.org/api/files/bca770b3-51cc-4811-905c-351002a7049f',\n",
       "  'discard': 'https://zenodo.org/api/deposit/depositions/2542034/actions/discard',\n",
       "  'edit': 'https://zenodo.org/api/deposit/depositions/2542034/actions/edit',\n",
       "  'files': 'https://zenodo.org/api/deposit/depositions/2542034/files',\n",
       "  'html': 'https://zenodo.org/deposit/2542034',\n",
       "  'latest_draft': 'https://zenodo.org/api/deposit/depositions/2542034',\n",
       "  'latest_draft_html': 'https://zenodo.org/deposit/depositions/2542034',\n",
       "  'publish': 'https://zenodo.org/api/deposit/depositions/2542034/actions/publish',\n",
       "  'self': 'https://zenodo.org/api/deposit/depositions/2542034'},\n",
       " 'metadata': {'prereserve_doi': {'doi': '10.5281/zenodo.2542034',\n",
       "   'recid': 2542034}},\n",
       " 'modified': '2019-01-16T18:20:58.093182+00:00',\n",
       " 'owner': 58441,\n",
       " 'record_id': 2542034,\n",
       " 'state': 'unsubmitted',\n",
       " 'submitted': False,\n",
       " 'title': ''}"
      ]
     },
     "execution_count": 118,
     "metadata": {},
     "output_type": "execute_result"
    }
   ],
   "source": [
    "r.json()"
   ]
  },
  {
   "cell_type": "code",
   "execution_count": 119,
   "metadata": {},
   "outputs": [],
   "source": [
    "deposition_id = r.json()['id']\n",
    "data = {'filename': 'liebres.jpg'}\n",
    "files = {'file': open('liebres.jpg', 'rb')}\n",
    "r = requests.post('https://zenodo.org/api/deposit/depositions/%s/files' % deposition_id,params={'access_token': ACCESS_TOKEN}, data=data,files=files)"
   ]
  },
  {
   "cell_type": "code",
   "execution_count": 120,
   "metadata": {},
   "outputs": [
    {
     "data": {
      "text/plain": [
       "{'checksum': '869ece4cf868d40907c4cb709fdfe82b',\n",
       " 'filename': 'liebres.jpg',\n",
       " 'filesize': 22899,\n",
       " 'id': '8fca1c31-1424-4678-a4b8-47061330d829',\n",
       " 'links': {'download': 'https://zenodo.org/api/files/bca770b3-51cc-4811-905c-351002a7049f/liebres.jpg',\n",
       "  'self': 'https://zenodo.org/api/deposit/depositions/2542034/files/8fca1c31-1424-4678-a4b8-47061330d829'}}"
      ]
     },
     "execution_count": 120,
     "metadata": {},
     "output_type": "execute_result"
    }
   ],
   "source": [
    "r.json()"
   ]
  },
  {
   "cell_type": "code",
   "execution_count": 131,
   "metadata": {},
   "outputs": [],
   "source": [
    "data = {'metadata': {'title': 'Populations','upload_type': 'graphic','description': 'Poblacion de liebres','creators': [{'name': 'Andrea,Andrea,Alejandro','affiliation': 'Zenodo'}]}}\n",
    "r = requests.put('https://zenodo.org/api/deposit/depositions/%s' % deposition_id,params={'access_token': ACCESS_TOKEN}, data=json.dumps(data), headers=headers)"
   ]
  },
  {
   "cell_type": "code",
   "execution_count": null,
   "metadata": {},
   "outputs": [],
   "source": [
    "#está publicado en:\n",
    "https://zenodo.org/record/2542034"
   ]
  },
  {
   "cell_type": "markdown",
   "metadata": {},
   "source": [
    "¿Puedes replicar ese workflow en un sólo bloque con otros datos?"
   ]
  },
  {
   "cell_type": "code",
   "execution_count": null,
   "metadata": {},
   "outputs": [],
   "source": []
  },
  {
   "cell_type": "code",
   "execution_count": null,
   "metadata": {},
   "outputs": [],
   "source": []
  }
 ],
 "metadata": {
  "kernelspec": {
   "display_name": "Python 3",
   "language": "python",
   "name": "python3"
  },
  "language_info": {
   "codemirror_mode": {
    "name": "ipython",
    "version": 3
   },
   "file_extension": ".py",
   "mimetype": "text/x-python",
   "name": "python",
   "nbconvert_exporter": "python",
   "pygments_lexer": "ipython3",
   "version": "3.6.5"
  }
 },
 "nbformat": 4,
 "nbformat_minor": 2
}
